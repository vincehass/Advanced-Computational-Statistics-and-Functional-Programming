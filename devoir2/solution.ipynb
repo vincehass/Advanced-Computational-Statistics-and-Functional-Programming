{
 "cells": [
  {
   "cell_type": "markdown",
   "metadata": {},
   "source": [
    "# Devoir 2 (solutions): Méthode de la transformée inverse"
   ]
  },
  {
   "cell_type": "markdown",
   "metadata": {},
   "source": [
    "## Exercice 1"
   ]
  },
  {
   "cell_type": "markdown",
   "metadata": {},
   "source": [
    "### (a)"
   ]
  },
  {
   "cell_type": "code",
   "execution_count": 1,
   "metadata": {},
   "outputs": [],
   "source": [
    "rand_gen <- function(x, trans = identity) {\n",
    "    trans_vect <- Vectorize(trans)\n",
    "\n",
    "    counter <- as.table(rep(0L, length(x)))\n",
    "    names(counter) <- trans_vect(seq(0L, length.out = length(x)))\n",
    "\n",
    "    p <- cumsum(x) / sum(x)\n",
    "\n",
    "    function(n) {\n",
    "        ret <- trans_vect(sapply(runif(n), function(y) sum(y > p)))\n",
    "        counter <<- counter + table(factor(ret, names(counter)))\n",
    "\n",
    "        ret\n",
    "    }\n",
    "}"
   ]
  },
  {
   "cell_type": "markdown",
   "metadata": {},
   "source": [
    "### (b)"
   ]
  },
  {
   "cell_type": "code",
   "execution_count": 2,
   "metadata": {},
   "outputs": [],
   "source": [
    "rand_trans <- function(sim, trans) rand_gen(environment(sim)[[\"x\"]], trans)"
   ]
  },
  {
   "cell_type": "markdown",
   "metadata": {},
   "source": [
    "### (c)"
   ]
  },
  {
   "cell_type": "markdown",
   "metadata": {},
   "source": [
    "La fonction suivante fonctionne pour un nombre arbitraire d'arguments (ce qui n'était pas nécessaire pour répondre à la question)."
   ]
  },
  {
   "cell_type": "code",
   "execution_count": 3,
   "metadata": {},
   "outputs": [],
   "source": [
    "rand_sum <- function(...) {\n",
    "    xs <- lapply(list(...), function(s) environment(s)[[\"x\"]])\n",
    "\n",
    "    n <- Reduce(max, sapply(xs, length))\n",
    "\n",
    "    new_x <- Reduce(x = xs, init = numeric(n),\n",
    "                    f = function(x, y) {\n",
    "                        y <- c(y, numeric(n - length(y)))\n",
    "                        x + y\n",
    "                    })\n",
    "\n",
    "    rand_gen(new_x)\n",
    "}"
   ]
  },
  {
   "cell_type": "markdown",
   "metadata": {},
   "source": [
    "### (d)"
   ]
  },
  {
   "cell_type": "code",
   "execution_count": 4,
   "metadata": {},
   "outputs": [],
   "source": [
    "rand_stats <- function(sim) proportions(environment(sim)[[\"counter\"]])"
   ]
  },
  {
   "cell_type": "markdown",
   "metadata": {},
   "source": [
    "### (e)"
   ]
  },
  {
   "cell_type": "code",
   "execution_count": 5,
   "metadata": {},
   "outputs": [],
   "source": [
    "rand_hist <- function(sim) barplot(rand_stats(sim), space = 0L)"
   ]
  },
  {
   "cell_type": "markdown",
   "metadata": {},
   "source": [
    "## Exercice 2"
   ]
  },
  {
   "cell_type": "code",
   "execution_count": 6,
   "metadata": {},
   "outputs": [],
   "source": [
    "exo2 <- function(chiffres = c(2L, 2L, 5L, 6L, 6L, 6L, 7L, 9L),\n",
    "                 lb = -1e10,\n",
    "                 ub = 1e10,\n",
    "                 nb_iters = 1e5L) {\n",
    "    op_match <- list(`+`, `-`, `*`, `/`, `^`)\n",
    "\n",
    "    res <- replicate(n = nb_iters, simplify = FALSE, expr = {\n",
    "        n <- sample(seq_along(chiffres)[-1L], 1L)\n",
    "        chiffres_utilises <- sample(chiffres, n)\n",
    "\n",
    "        ## Pour échantillonner les opérations à effectuer, on procède\n",
    "        ## par conditionnement: (1) on échantillonne le nombre\n",
    "        ## d'exponentiations, de multiplications/divisions et\n",
    "        ## d'addition/soustractions et (2) on échantillone trois\n",
    "        ## séquences d'opérations pour chacune de ces catégories. De\n",
    "        ## cette manière, on n'a pas à se préoccuper de la priorité\n",
    "        ## des opérations.\n",
    "        ops_rep <- c(rmultinom(1L, n - 1L, rep(1L, 3)))\n",
    "        ops_utilises <- c(rep(5L, ops_rep[[1L]]),\n",
    "                          sample(3L:4L, ops_rep[[2L]], replace = TRUE),\n",
    "                          sample(1L:2L, ops_rep[[3L]], replace = TRUE))\n",
    "\n",
    "        res <- as.numeric(chiffres_utilises[[1L]])\n",
    "        toRemove <- logical(n - 1L)\n",
    "        for (k in 1L:(n - 1L)) {\n",
    "            candidat <-\n",
    "                op_match[[ops_utilises[k]]](res, chiffres_utilises[[k + 1L]])\n",
    "            if (identical(ceiling(candidat), floor(candidat)))\n",
    "                res <- as.numeric(candidat)\n",
    "            else\n",
    "                toRemove[k] <- TRUE\n",
    "        }\n",
    "\n",
    "        list(x = res,\n",
    "             chiffres = chiffres_utilises[c(TRUE, !toRemove)],\n",
    "             ops = ops_utilises[!toRemove])\n",
    "    })\n",
    "    ## Enlève les nombres situés à l'extérieur des limites.\n",
    "    res <- Filter(x = res, f = function(t) t[[\"x\"]] <= ub & t[[\"x\"]] >= lb)\n",
    "\n",
    "    ## Enlève les doublons. Pour ce faire, la première étape est\n",
    "    ## d'ordonner les résultats.\n",
    "    res_trans <- do.call(rbind, res)\n",
    "    xs <- as.numeric(res_trans[,1L])\n",
    "    xs_order <- order(xs)\n",
    "    xs <- xs[xs_order]\n",
    "\n",
    "    ## Trouve les indices des doublons.\n",
    "    doublons <- which(head(xs, -1L) == tail(xs, -1L)) + 1L\n",
    "    n <- length(xs) - length(doublons)\n",
    "    if (identical(doublons, integer(0L)))\n",
    "        ## Hack pour palier à un comportement de R (subset par -integer(0))...\n",
    "        doublons <- -seq_along(xs)\n",
    "\n",
    "    ## Ajuste les chiffres et les opérations.\n",
    "    chiffres <- res_trans[,2L][xs_order]\n",
    "    ops <- res_trans[,3L][xs_order]\n",
    "\n",
    "    ## Retourne le résultat.\n",
    "    lapply(1L:n, function(k) list(x = xs[-doublons][k],\n",
    "                                  chiffres = chiffres[-doublons][k][[1L]],\n",
    "                                  ops = ops[-doublons][k][[1L]]))\n",
    "}"
   ]
  },
  {
   "cell_type": "markdown",
   "metadata": {},
   "source": [
    "La liste retournée contient assez d'informations pour reconstruire chacune des décompositions. Par exemple, la fonctions suivante permet d'afficher à l'écran un élément de la suite et sa décomposition."
   ]
  },
  {
   "cell_type": "code",
   "execution_count": 7,
   "metadata": {},
   "outputs": [],
   "source": [
    "exo2_decode <- function(nb) {\n",
    "    op_match <- list(\"+\", \"-\", \"*\", \"/\", \"^\")\n",
    "\n",
    "    cat(nb[[\"x\"]], \" = \", sep = \"\")\n",
    "\n",
    "    cat(nb[[\"chiffres\"]][[1L]])\n",
    "    for (k in seq_along(nb[[\"ops\"]]))\n",
    "        cat(\" \",\n",
    "            op_match[[nb[[\"ops\"]][k]]],\n",
    "            \" \",\n",
    "            nb[[\"chiffres\"]][k + 1L],\n",
    "            sep = \"\")\n",
    "\n",
    "    cat(\"\\n\")\n",
    "}"
   ]
  }
 ],
 "metadata": {
  "kernelspec": {
   "display_name": "R",
   "language": "R",
   "name": "ir"
  },
  "language_info": {
   "codemirror_mode": "r",
   "file_extension": ".r",
   "mimetype": "text/x-r-source",
   "name": "R",
   "pygments_lexer": "r",
   "version": "4.0.3"
  }
 },
 "nbformat": 4,
 "nbformat_minor": 4
}
