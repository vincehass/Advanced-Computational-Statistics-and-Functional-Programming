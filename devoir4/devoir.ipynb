{
 "cells": [
  {
   "cell_type": "markdown",
   "metadata": {},
   "source": [
    "# Devoir 4: Mon premier package"
   ]
  },
  {
   "cell_type": "markdown",
   "metadata": {},
   "source": [
    "L'objectif de ce devoir est la création d'un package R regroupant l'ensemble des fonctions programmées au courant de la session. Celui-ci devra respecter les exigences suivantes:\n",
    "\n",
    "* Chacune des fonctions ($9$ pour le premier devoir, $\\geq 6$ pour le second et $8$ pour le troisième) devra être exportée de manière à être accessibles à l'utilisateur du package;\n",
    "* Vous pouvez faire appel à d'autres fonctions, mais celles-ci doivent être cachées à l'utilisateur;\n",
    "* Chacune des fonction doit être documentée. La documentation doit comprendre:\n",
    "  * Titre: description en une ligne de la fonction\n",
    "  * Description: description plus détaillée de la fonction\n",
    "  * Paramètres: description de chacun des arguments acceptés par la fonction\n",
    "  * Retour: description de ce qui est retourné par la fonction\n",
    "  * Exemples: au moins un exemple d'utilisation de la fonction;\n",
    "* Le package lui-même doit être documenté. La documentation doit décrire le package et lister l'ensemble des fonctions disponibles;\n",
    "* Votre package doit être mis en ligne sur GitHub de manière à pouvoir être installé à l'aide de la fonction `devtools::install_github`;\n",
    "\n",
    "**Notez que chacune des fonctions disponibles doit être fonctionnelle**. Vous pouvez vous inspirer (sans plagier) des solutions mises en ligne afin de compléter tout code incomplet.\n",
    "\n",
    "**Votre package sera testé à l'aide de la commande `R CMD check --as-cran`**. Des pénalités seront attribuées pour chaque «erreur» et chaque «avertissement» («warning»). Assurez-vous donc de passer chacun des «checks» avant la date limite.\n",
    "\n",
    "**Bon travail!**"
   ]
  }
 ],
 "metadata": {
  "kernelspec": {
   "display_name": "R",
   "language": "R",
   "name": "ir"
  },
  "language_info": {
   "codemirror_mode": "r",
   "file_extension": ".r",
   "mimetype": "text/x-r-source",
   "name": "R",
   "pygments_lexer": "r",
   "version": "4.0.3"
  }
 },
 "nbformat": 4,
 "nbformat_minor": 4
}
