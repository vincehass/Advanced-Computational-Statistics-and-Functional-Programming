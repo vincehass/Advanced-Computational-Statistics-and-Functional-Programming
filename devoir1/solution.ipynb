{
 "cells": [
  {
   "cell_type": "markdown",
   "metadata": {},
   "source": [
    "# Exercice 1"
   ]
  },
  {
   "cell_type": "markdown",
   "metadata": {},
   "source": [
    "## (a)"
   ]
  },
  {
   "cell_type": "code",
   "execution_count": 1,
   "metadata": {},
   "outputs": [],
   "source": [
    "dft1_naive <- function(x, k)\n",
    "    sum(x * exp(-1i * 2 * pi * k * (seq_along(x) - 1) / length(x)))"
   ]
  },
  {
   "cell_type": "markdown",
   "metadata": {},
   "source": [
    "## (b)"
   ]
  },
  {
   "cell_type": "code",
   "execution_count": 2,
   "metadata": {},
   "outputs": [],
   "source": [
    "dft1_iter <- function(x, k){\n",
    "    N <- length(x)\n",
    "    res <- 0\n",
    "    \n",
    "    for (n in 0:(N - 1))\n",
    "        res <- res + x[n + 1] * exp(-1i * 2 * pi * k * n / N)\n",
    "    \n",
    "    res\n",
    "}"
   ]
  },
  {
   "cell_type": "markdown",
   "metadata": {},
   "source": [
    "## (c)"
   ]
  },
  {
   "cell_type": "code",
   "execution_count": 3,
   "metadata": {},
   "outputs": [],
   "source": [
    "dft1_matrix <- function(x, k)\n",
    "    as.complex(crossprod(\n",
    "        x, exp(-1i * 2 * pi * k * (seq_along(x) - 1) / length(x))))"
   ]
  },
  {
   "cell_type": "markdown",
   "metadata": {},
   "source": [
    "## (d)"
   ]
  },
  {
   "cell_type": "code",
   "execution_count": 4,
   "metadata": {},
   "outputs": [],
   "source": [
    "dft_factory <- function(F, x)\n",
    "    sapply(seq_along(x) - 1, F, x = x)"
   ]
  },
  {
   "cell_type": "markdown",
   "metadata": {},
   "source": [
    "## (e)"
   ]
  },
  {
   "cell_type": "code",
   "execution_count": 5,
   "metadata": {},
   "outputs": [],
   "source": [
    "dft_naive <- function(x) dft_factory(dft1_naive, x)\n",
    "dft_iter <- function(x) dft_factory(dft1_iter, x)\n",
    "dft_matrix <- function(x) dft_factory(dft1_matrix, x)"
   ]
  },
  {
   "cell_type": "markdown",
   "metadata": {},
   "source": [
    "# Exercice 2"
   ]
  },
  {
   "cell_type": "code",
   "execution_count": 6,
   "metadata": {},
   "outputs": [],
   "source": [
    "fib_mulPos_rec <- factorial"
   ]
  },
  {
   "cell_type": "markdown",
   "metadata": {},
   "source": [
    "# Exercice 3"
   ]
  },
  {
   "cell_type": "code",
   "execution_count": 7,
   "metadata": {},
   "outputs": [],
   "source": [
    "fft_ct2 <- function(x){\n",
    "    ## Attention! Cette fonction suppose que la longueur\n",
    "    ## de x est une puissance de 2!\n",
    "    identical(ceiling(log2(length(x))), floor(log2(length(x)))) ||\n",
    "        stop(\"La longueur de `x` doit être un multiple de 2\")\n",
    "\n",
    "    ## Condition d'arrêt.\n",
    "    identical(length(x), 1L) && return(x)\n",
    "\n",
    "    ## On calcule\n",
    "    P <- fft_ct2(x[seq(1, length(x), by = 2)])\n",
    "    I <- fft_ct2(x[seq(2, length(x), by = 2)])\n",
    "\n",
    "    ## On reconstruit le résultat\n",
    "    N <- length(x)\n",
    "    k <- seq_along(P) - 1\n",
    "    twiddle <- exp(-2 * pi * 1i * k / N)\n",
    "    c(P + twiddle * I, P - twiddle * I)\n",
    "}"
   ]
  }
 ],
 "metadata": {
  "kernelspec": {
   "display_name": "R",
   "language": "R",
   "name": "ir"
  },
  "language_info": {
   "codemirror_mode": "r",
   "file_extension": ".r",
   "mimetype": "text/x-r-source",
   "name": "R",
   "pygments_lexer": "r",
   "version": "4.0.3"
  }
 },
 "nbformat": 4,
 "nbformat_minor": 4
}
