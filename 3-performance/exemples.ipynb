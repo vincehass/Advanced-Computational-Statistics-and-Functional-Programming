{
 "cells": [
  {
   "cell_type": "markdown",
   "metadata": {},
   "source": [
    "# Variables"
   ]
  },
  {
   "cell_type": "markdown",
   "metadata": {},
   "source": [
    "## Copy on write"
   ]
  },
  {
   "cell_type": "code",
   "execution_count": 1,
   "metadata": {},
   "outputs": [
    {
     "name": "stderr",
     "output_type": "stream",
     "text": [
      "Registered S3 method overwritten by 'pryr':\n",
      "  method      from\n",
      "  print.bytes Rcpp\n",
      "\n"
     ]
    }
   ],
   "source": [
    "library(pryr)"
   ]
  },
  {
   "cell_type": "code",
   "execution_count": 2,
   "metadata": {},
   "outputs": [
    {
     "data": {
      "text/html": [
       "'0x55c7ee3a0940'"
      ],
      "text/latex": [
       "'0x55c7ee3a0940'"
      ],
      "text/markdown": [
       "'0x55c7ee3a0940'"
      ],
      "text/plain": [
       "[1] \"0x55c7ee3a0940\""
      ]
     },
     "metadata": {},
     "output_type": "display_data"
    }
   ],
   "source": [
    "x <- 158\n",
    "address(x)"
   ]
  },
  {
   "cell_type": "code",
   "execution_count": 3,
   "metadata": {},
   "outputs": [
    {
     "data": {
      "text/html": [
       "'0x55c7ee3a0940'"
      ],
      "text/latex": [
       "'0x55c7ee3a0940'"
      ],
      "text/markdown": [
       "'0x55c7ee3a0940'"
      ],
      "text/plain": [
       "[1] \"0x55c7ee3a0940\""
      ]
     },
     "metadata": {},
     "output_type": "display_data"
    }
   ],
   "source": [
    "y <- x\n",
    "address(y)"
   ]
  },
  {
   "cell_type": "code",
   "execution_count": 4,
   "metadata": {},
   "outputs": [
    {
     "data": {
      "text/html": [
       "TRUE"
      ],
      "text/latex": [
       "TRUE"
      ],
      "text/markdown": [
       "TRUE"
      ],
      "text/plain": [
       "[1] TRUE"
      ]
     },
     "metadata": {},
     "output_type": "display_data"
    }
   ],
   "source": [
    "identical(address(x), address(y))"
   ]
  },
  {
   "cell_type": "code",
   "execution_count": 5,
   "metadata": {},
   "outputs": [
    {
     "data": {
      "text/html": [
       "'0x55c7eca34948'"
      ],
      "text/latex": [
       "'0x55c7eca34948'"
      ],
      "text/markdown": [
       "'0x55c7eca34948'"
      ],
      "text/plain": [
       "[1] \"0x55c7eca34948\""
      ]
     },
     "metadata": {},
     "output_type": "display_data"
    },
    {
     "data": {
      "text/html": [
       "'0x55c7ee3a0940'"
      ],
      "text/latex": [
       "'0x55c7ee3a0940'"
      ],
      "text/markdown": [
       "'0x55c7ee3a0940'"
      ],
      "text/plain": [
       "[1] \"0x55c7ee3a0940\""
      ]
     },
     "metadata": {},
     "output_type": "display_data"
    }
   ],
   "source": [
    "x <- 86\n",
    "address(x)\n",
    "address(y)"
   ]
  },
  {
   "cell_type": "code",
   "execution_count": 6,
   "metadata": {},
   "outputs": [
    {
     "data": {
      "text/html": [
       "FALSE"
      ],
      "text/latex": [
       "FALSE"
      ],
      "text/markdown": [
       "FALSE"
      ],
      "text/plain": [
       "[1] FALSE"
      ]
     },
     "metadata": {},
     "output_type": "display_data"
    }
   ],
   "source": [
    "identical(address(x), address(y))"
   ]
  },
  {
   "cell_type": "markdown",
   "metadata": {},
   "source": [
    "## Préallocation"
   ]
  },
  {
   "cell_type": "code",
   "execution_count": 7,
   "metadata": {},
   "outputs": [],
   "source": [
    "lcg <- function(a, b, m,\n",
    "                seed = 0)\n",
    "  function(){\n",
    "    ret <- (a * seed + b) %% m\n",
    "    seed <<- ret\n",
    "    ret / m\n",
    "  }"
   ]
  },
  {
   "cell_type": "code",
   "execution_count": 8,
   "metadata": {},
   "outputs": [],
   "source": [
    "## LCG de numerical recipes.\n",
    "nr_lcg <- lcg(1664525, 1013904223, 2^32)\n",
    "\n",
    "rand_prealloc <- function(n){\n",
    "    res <- numeric(n)\n",
    "    for (kk in 1:n)\n",
    "        res[kk] <- nr_lcg()\n",
    "\n",
    "    res\n",
    "}\n",
    "\n",
    "rand_vec <- function(n){\n",
    "    replicate(n, nr_lcg())\n",
    "}"
   ]
  },
  {
   "cell_type": "code",
   "execution_count": 9,
   "metadata": {},
   "outputs": [
    {
     "name": "stdout",
     "output_type": "stream",
     "text": [
      "Unit: milliseconds\n",
      "                 expr      min        lq     mean   median       uq      max\n",
      "      rand_vec(10000) 14.01699 15.664319 18.66093 17.08496 20.33785 45.99623\n",
      " rand_prealloc(10000)  9.13592  9.896418 11.83521 10.77661 12.63599 27.69203\n",
      " neval\n",
      "   100\n",
      "   100\n"
     ]
    }
   ],
   "source": [
    "library(microbenchmark)\n",
    "print(microbenchmark(rand_vec(1e4), rand_prealloc(1e4)))"
   ]
  },
  {
   "cell_type": "markdown",
   "metadata": {},
   "source": [
    "# Fonctions"
   ]
  },
  {
   "cell_type": "markdown",
   "metadata": {},
   "source": [
    "## De niveau supérieur"
   ]
  },
  {
   "cell_type": "code",
   "execution_count": 10,
   "metadata": {},
   "outputs": [
    {
     "data": {
      "text/html": [
       "<style>\n",
       ".list-inline {list-style: none; margin:0; padding: 0}\n",
       ".list-inline>li {display: inline-block}\n",
       ".list-inline>li:not(:last-child)::after {content: \"\\00b7\"; padding: 0 .5ex}\n",
       "</style>\n",
       "<ol class=list-inline><li>2</li><li>4</li><li>6</li><li>8</li><li>10</li></ol>\n"
      ],
      "text/latex": [
       "\\begin{enumerate*}\n",
       "\\item 2\n",
       "\\item 4\n",
       "\\item 6\n",
       "\\item 8\n",
       "\\item 10\n",
       "\\end{enumerate*}\n"
      ],
      "text/markdown": [
       "1. 2\n",
       "2. 4\n",
       "3. 6\n",
       "4. 8\n",
       "5. 10\n",
       "\n",
       "\n"
      ],
      "text/plain": [
       "[1]  2  4  6  8 10"
      ]
     },
     "metadata": {},
     "output_type": "display_data"
    }
   ],
   "source": [
    "Filter(function(x) identical(x %% 2, 0), 1:10)"
   ]
  },
  {
   "cell_type": "markdown",
   "metadata": {},
   "source": [
    "## Composition"
   ]
  },
  {
   "cell_type": "code",
   "execution_count": 11,
   "metadata": {},
   "outputs": [
    {
     "data": {
      "text/plain": [
       "$a\n",
       "\n",
       "\n",
       "$b\n",
       "\n",
       "\n",
       "$m\n",
       "\n",
       "\n",
       "$seed\n",
       "[1] 0\n"
      ]
     },
     "metadata": {},
     "output_type": "display_data"
    }
   ],
   "source": [
    "formals(lcg)"
   ]
  },
  {
   "cell_type": "code",
   "execution_count": 12,
   "metadata": {},
   "outputs": [
    {
     "data": {
      "text/plain": [
       "function() {\n",
       "    ret <- (a * seed + b)%%m\n",
       "    seed <<- ret\n",
       "    ret/m\n",
       "}"
      ]
     },
     "metadata": {},
     "output_type": "display_data"
    }
   ],
   "source": [
    "body(lcg)"
   ]
  },
  {
   "cell_type": "code",
   "execution_count": 13,
   "metadata": {},
   "outputs": [
    {
     "data": {
      "text/plain": [
       "<environment: R_GlobalEnv>"
      ]
     },
     "metadata": {},
     "output_type": "display_data"
    }
   ],
   "source": [
    "environment(lcg)"
   ]
  },
  {
   "cell_type": "markdown",
   "metadata": {},
   "source": [
    "## Portée lexicale"
   ]
  },
  {
   "cell_type": "code",
   "execution_count": 14,
   "metadata": {},
   "outputs": [
    {
     "name": "stdout",
     "output_type": "stream",
     "text": [
      "[1] 42\n",
      "[1] 666\n"
     ]
    }
   ],
   "source": [
    "x <- 42\n",
    "f <- function(){\n",
    "    print(x)\n",
    "    x <- 666\n",
    "    print(x)\n",
    "}\n",
    "f()"
   ]
  },
  {
   "cell_type": "code",
   "execution_count": 15,
   "metadata": {},
   "outputs": [
    {
     "name": "stdout",
     "output_type": "stream",
     "text": [
      "[1] 42\n"
     ]
    }
   ],
   "source": [
    "print(x)"
   ]
  },
  {
   "cell_type": "markdown",
   "metadata": {},
   "source": [
    "## Variable globale vs. closure"
   ]
  },
  {
   "cell_type": "code",
   "execution_count": 16,
   "metadata": {},
   "outputs": [],
   "source": [
    "seed <- 42\n",
    "lcg_bad <- function(a, b, m)\n",
    "  function(){\n",
    "    ret <- (a * seed + b) %% m\n",
    "    seed <<- ret\n",
    "    ret / m\n",
    "  }"
   ]
  },
  {
   "cell_type": "code",
   "execution_count": 17,
   "metadata": {},
   "outputs": [],
   "source": [
    "nr_lcg <- lcg(1664525, 1013904223, 2^32)"
   ]
  },
  {
   "cell_type": "code",
   "execution_count": 18,
   "metadata": {},
   "outputs": [
    {
     "data": {
      "text/html": [
       "TRUE"
      ],
      "text/latex": [
       "TRUE"
      ],
      "text/markdown": [
       "TRUE"
      ],
      "text/plain": [
       "[1] TRUE"
      ]
     },
     "metadata": {},
     "output_type": "display_data"
    }
   ],
   "source": [
    "identical(environment(lcg), globalenv())"
   ]
  },
  {
   "cell_type": "code",
   "execution_count": 19,
   "metadata": {},
   "outputs": [
    {
     "data": {
      "text/html": [
       "FALSE"
      ],
      "text/latex": [
       "FALSE"
      ],
      "text/markdown": [
       "FALSE"
      ],
      "text/plain": [
       "[1] FALSE"
      ]
     },
     "metadata": {},
     "output_type": "display_data"
    }
   ],
   "source": [
    "identical(environment(nr_lcg), globalenv())"
   ]
  },
  {
   "cell_type": "markdown",
   "metadata": {},
   "source": [
    "# Comparaisons"
   ]
  },
  {
   "cell_type": "markdown",
   "metadata": {},
   "source": [
    "## Approche impérative"
   ]
  },
  {
   "cell_type": "code",
   "execution_count": 20,
   "metadata": {},
   "outputs": [],
   "source": [
    "add1 <- function(x) x + 1\n",
    "\n",
    "add2 <- function(x) x + 2\n",
    "\n",
    "for_add1_twice <- function(n){\n",
    "    res <- integer(n)\n",
    "    for (kk in 1:n)\n",
    "        res[n] <- add1(add1(rpois(1, 1)))\n",
    "\n",
    "    res\n",
    "}\n",
    "\n",
    "for_add2 <- function(n){\n",
    "    res <- integer(n)\n",
    "    for (kk in 1:n)\n",
    "        res[n] <- add2(rpois(1, 1))\n",
    "\n",
    "    res\n",
    "}\n",
    "\n",
    "for_noCall <- function(n){\n",
    "    res <- integer(n)\n",
    "    for (kk in 1:n)\n",
    "        res[n] <- rpois(1, 1) + 2\n",
    "\n",
    "    res\n",
    "}"
   ]
  },
  {
   "cell_type": "code",
   "execution_count": 21,
   "metadata": {},
   "outputs": [
    {
     "name": "stdout",
     "output_type": "stream",
     "text": [
      "Unit: milliseconds\n",
      "                  expr      min       lq     mean   median       uq      max\n",
      " for_add1_twice(10000) 22.72288 23.53105 27.56056 26.71269 28.07891 58.92085\n",
      "       for_add2(10000) 18.98784 19.78932 23.86087 22.52685 24.55679 60.85150\n",
      "     for_noCall(10000) 15.44881 15.94451 19.11916 19.14823 20.67933 28.52324\n",
      " neval\n",
      "   100\n",
      "   100\n",
      "   100\n"
     ]
    }
   ],
   "source": [
    "print(microbenchmark(for_add1_twice(1e4),\n",
    "                     for_add2(1e4),\n",
    "                     for_noCall(1e4)))"
   ]
  },
  {
   "cell_type": "markdown",
   "metadata": {},
   "source": [
    "## Approche fonctionnelle"
   ]
  },
  {
   "cell_type": "code",
   "execution_count": 22,
   "metadata": {},
   "outputs": [],
   "source": [
    "sapply_add1_twice <- function(n)\n",
    "    sapply(rpois(n, 1), function(x) add1(add1(x)))\n",
    "\n",
    "sapply_add2 <- function(n) sapply(rpois(n, 1), add2)\n",
    "\n",
    "sapply_noCall <- function(n) sapply(rpois(n, 1), `+`, y = 1)"
   ]
  },
  {
   "cell_type": "code",
   "execution_count": 23,
   "metadata": {},
   "outputs": [
    {
     "name": "stdout",
     "output_type": "stream",
     "text": [
      "Unit: milliseconds\n",
      "                     expr       min        lq      mean    median        uq\n",
      " sapply_add1_twice(10000) 12.077698 13.695941 16.047801 14.333481 16.717061\n",
      "       sapply_add2(10000)  5.927710  6.386837  7.227655  6.721923  7.454382\n",
      "     sapply_noCall(10000)  3.601812  3.824616  4.632791  4.265314  4.819657\n",
      "      max neval\n",
      " 79.55702   100\n",
      " 11.68015   100\n",
      " 10.44032   100\n"
     ]
    }
   ],
   "source": [
    "print(microbenchmark(sapply_add1_twice(1e4),\n",
    "                     sapply_add2(1e4),\n",
    "                     sapply_noCall(1e4)))"
   ]
  },
  {
   "cell_type": "markdown",
   "metadata": {},
   "source": [
    "## Approche array"
   ]
  },
  {
   "cell_type": "code",
   "execution_count": 24,
   "metadata": {},
   "outputs": [],
   "source": [
    "add2_correct <- function(n) rpois(n, 1) + 2"
   ]
  },
  {
   "cell_type": "code",
   "execution_count": 25,
   "metadata": {},
   "outputs": [
    {
     "name": "stdout",
     "output_type": "stream",
     "text": [
      "Unit: microseconds\n",
      "                     expr       min         lq       mean    median        uq\n",
      "    for_add1_twice(10000) 22746.755 24168.2605 27879.0273 27147.249 28979.543\n",
      "          for_add2(10000) 19106.474 19909.2565 22930.0782 23375.155 24454.588\n",
      "        for_noCall(10000) 15558.268 16231.5870 19161.3361 18101.639 20751.457\n",
      " sapply_add1_twice(10000) 12412.159 13307.8300 15012.7824 13809.200 15308.843\n",
      "       sapply_add2(10000)  5779.844  6092.8375  7056.0104  6373.099  7079.894\n",
      "     sapply_noCall(10000)  3532.019  3692.8440  4136.4587  3880.397  4200.979\n",
      "      add2_correct(10000)   372.030   378.3925   418.6678   384.718   394.878\n",
      "       max neval\n",
      " 70330.037   100\n",
      " 39338.760   100\n",
      " 33932.068   100\n",
      " 36772.695   100\n",
      " 17223.236   100\n",
      "  8135.214   100\n",
      "  2071.860   100\n"
     ]
    }
   ],
   "source": [
    "print(microbenchmark(for_add1_twice(1e4),\n",
    "                     for_add2(1e4),\n",
    "                     for_noCall(1e4),\n",
    "                     sapply_add1_twice(1e4),\n",
    "                     sapply_add2(1e4),\n",
    "                     sapply_noCall(1e4),\n",
    "                     add2_correct(1e4)))"
   ]
  }
 ],
 "metadata": {
  "kernelspec": {
   "display_name": "R",
   "language": "R",
   "name": "ir"
  },
  "language_info": {
   "codemirror_mode": "r",
   "file_extension": ".r",
   "mimetype": "text/x-r-source",
   "name": "R",
   "pygments_lexer": "r",
   "version": "4.0.3"
  }
 },
 "nbformat": 4,
 "nbformat_minor": 4
}
