{
 "cells": [
  {
   "cell_type": "markdown",
   "metadata": {},
   "source": [
    "# Devoir 3 (solution): Programmation orientée objet et polynômes"
   ]
  },
  {
   "cell_type": "markdown",
   "metadata": {},
   "source": [
    "## Exercice 1"
   ]
  },
  {
   "cell_type": "markdown",
   "metadata": {},
   "source": [
    "### a)"
   ]
  },
  {
   "cell_type": "code",
   "execution_count": 1,
   "metadata": {},
   "outputs": [],
   "source": [
    "plynR <- function(coefs) {\n",
    "    is.numeric(coefs) || stop(\"`coefs` doit être un vecteur de nombres réels\")\n",
    "\n",
    "    structure(coefs, class = c(\"plynR\", \"numeric\"))\n",
    "}"
   ]
  },
  {
   "cell_type": "markdown",
   "metadata": {},
   "source": [
    "### b)"
   ]
  },
  {
   "cell_type": "markdown",
   "metadata": {},
   "source": [
    "Avant de passer à la méthode demandée, nous allons implémenter quelques méthodes utilitaires. La méthode `deg` donne le degré d'un `plynR`. On défère l'appel à `deg.plynR` (fonction `NextMethod`) à la méthode `deg.default`."
   ]
  },
  {
   "cell_type": "code",
   "execution_count": 2,
   "metadata": {},
   "outputs": [],
   "source": [
    "deg <- function(p) UseMethod(\"deg\")\n",
    "deg.default <- function(p) {\n",
    "    p_numeric <- as.numeric(p)\n",
    "\n",
    "    for (k in rev(seq_along(p_numeric)))\n",
    "        isTRUE(all.equal(p_numeric[k], 0L)) || return(k - 1L)\n",
    "\n",
    "    0L\n",
    "}\n",
    "deg.plynR <- function(p) NextMethod()"
   ]
  },
  {
   "cell_type": "markdown",
   "metadata": {},
   "source": [
    "La méthode `[.plynR` est appellée lorsqu'on utilise la syntaxe `p[i]` pour `p` $\\in$ `plynR`. On l'implémente de manière à ce que `p[i]` retourne $a_i$, c'est-à-dire le coefficient de $x^i$. Notez que si $a_i$ n'a pas été spécifié par l'utilisateur, la méthode retourne 0."
   ]
  },
  {
   "cell_type": "code",
   "execution_count": 3,
   "metadata": {},
   "outputs": [],
   "source": [
    "`[.plynR` <- function(x, i) {\n",
    "    xN <- as.numeric(x)\n",
    "\n",
    "    sapply(i, function(k) {\n",
    "        k < 0L && stop(\"puissance invalide\")\n",
    "        k > deg(xN) && return(0.0)\n",
    "        xN[k + 1L]\n",
    "    })\n",
    "}"
   ]
  },
  {
   "cell_type": "markdown",
   "metadata": {},
   "source": [
    "On implémente à présent la méthode `print`."
   ]
  },
  {
   "cell_type": "code",
   "execution_count": 4,
   "metadata": {},
   "outputs": [],
   "source": [
    "char_coef <- function(x, i, first) UseMethod(\"char_coef\")\n",
    "char_coef.plynR <- function(x, i, first = FALSE) {\n",
    "    signe <- ifelse(first,\n",
    "             ifelse(x[i] < 0L, \"-\", \"\"),\n",
    "             ifelse(x[i] < 0L, \"- \", \"+ \"))\n",
    "\n",
    "    va <- ifelse(isTRUE(all.equal(i, 0L)), \"\",\n",
    "                 paste(\"x\",\n",
    "                       ifelse(isTRUE(all.equal(i, 1L)),\n",
    "                              \"\",\n",
    "                              paste(\"^\", i, sep = \"\")),\n",
    "                       sep = \"\"))\n",
    "\n",
    "    cof <- ifelse(isTRUE(all.equal(abs(x[i]), 1L)) & !identical(va, \"\"),\n",
    "                  \"\",\n",
    "                  abs(x[i]))\n",
    "\n",
    "    paste(signe, cof, va, sep = \"\")\n",
    "}\n",
    "\n",
    "print.plynR <- function(x) {\n",
    "    inds <- Filter(function(i) !isTRUE(all.equal(x[i], 0L)),\n",
    "                   seq_along(x) - 1L)\n",
    "    if (identical(length(inds), 0L)) {\n",
    "        cat(\"0\\n\")\n",
    "        return()\n",
    "    }\n",
    "\n",
    "    cat(paste(char_coef(x, inds[[1L]], first = TRUE),\n",
    "              do.call(paste, lapply(inds[-1L], char_coef, x = x))),\n",
    "        \"\\n\")\n",
    "}"
   ]
  },
  {
   "cell_type": "markdown",
   "metadata": {},
   "source": [
    "### c)"
   ]
  },
  {
   "cell_type": "markdown",
   "metadata": {},
   "source": [
    "La solution présentée ici est légèrement plus sophistiquée que ce qui était demandé. On commence par définir la méthode `+` pour la classe `plynR`. Par la suite, on définit la méthode `plus` (ainsi que sa générique) sur la base de l'opérateur `+`. `plus.plynR` permet de faire la somme d'un nombre arbitraire de polynômes. Finalement, on définit `moins` sur la base de `+` également. Remarquez que comme `plynR` hérite de `numeric`, si `p` $\\in$ `plynR`, `-p` et `length(p)` se comportent comme attendu."
   ]
  },
  {
   "cell_type": "code",
   "execution_count": 5,
   "metadata": {},
   "outputs": [],
   "source": [
    "`+.plynR` <- function(e1, e2) {\n",
    "    d_max <- max(deg(e1), deg(e2))\n",
    "    plynR(e1[0L:d_max] + e2[0L:d_max])\n",
    "}\n",
    "\n",
    "plus <- function(...) UseMethod(\"plus\")\n",
    "plus.plynR <- function(...) Reduce(`+`, list(...))\n",
    "\n",
    "moins <- function(p, q) UseMethod(\"moins\")\n",
    "moins.plynR <- function(p, q) p + -q"
   ]
  },
  {
   "cell_type": "markdown",
   "metadata": {},
   "source": [
    "### d)"
   ]
  },
  {
   "cell_type": "markdown",
   "metadata": {},
   "source": [
    "Même idée que pour `plus` ici."
   ]
  },
  {
   "cell_type": "code",
   "execution_count": 6,
   "metadata": {},
   "outputs": [],
   "source": [
    "`*.plynR` <- function(e1, e2) {\n",
    "    plynR(sapply(seq(0L, deg(e1) + deg(e2)), function(k) {\n",
    "        inds <- 0L:k\n",
    "        sum(e1[inds] * e2[rev(inds)])\n",
    "    }))\n",
    "}\n",
    "\n",
    "fois <- function(...) UseMethod(\"fois\")\n",
    "fois.plynR <- function(...) Reduce(`*`, list(...))"
   ]
  },
  {
   "cell_type": "markdown",
   "metadata": {},
   "source": [
    "### e)"
   ]
  },
  {
   "cell_type": "code",
   "execution_count": 7,
   "metadata": {},
   "outputs": [],
   "source": [
    "derive <- function(p) UseMethod(\"derive\")\n",
    "derive.plynR <- function(p) {\n",
    "    identical(deg(p), 0L) && return(plynR(0))\n",
    "\n",
    "    plynR(sapply((seq_along(p) - 1L)[-1L], function(k) k * p[k]))\n",
    "}"
   ]
  },
  {
   "cell_type": "markdown",
   "metadata": {},
   "source": [
    "### f)"
   ]
  },
  {
   "cell_type": "code",
   "execution_count": 8,
   "metadata": {},
   "outputs": [],
   "source": [
    "racines <- function(p) UseMethod(\"racines\")\n",
    "racines.plynR <- function(p) polyroot(p)"
   ]
  },
  {
   "cell_type": "markdown",
   "metadata": {},
   "source": [
    "### g)"
   ]
  },
  {
   "cell_type": "code",
   "execution_count": 9,
   "metadata": {},
   "outputs": [],
   "source": [
    "format_cplx <- Vectorize(function(z) {\n",
    "    isTRUE(all.equal(z, 0.0 + 0.0i)) && return(\"\")\n",
    "\n",
    "    s_r <- ifelse(Re(z) > 0.0, \"- \", \"+ \")\n",
    "    s_i <- ifelse(Im(z) > 0.0, \"- \", \"+ \")\n",
    "    r <- abs(Re(z))\n",
    "    i <- abs(Im(z))\n",
    "\n",
    "    isTRUE(all.equal(i, 0.0)) && return(paste(s_r, r, sep = \"\"))\n",
    "    isTRUE(all.equal(r, 0.0)) && return(paste(s_i, i, \"i\", sep = \"\"))\n",
    "\n",
    "    paste(s_r, r, \" \", s_i, i, \"i\", sep = \"\")\n",
    "})\n",
    "\n",
    "format_term <- function(r) {\n",
    "    identical(r, \"\") && return(\"x\")\n",
    "    paste(\"(x \", r, \")\", sep = \"\")\n",
    "}\n",
    "\n",
    "summary.plynR <- function(object) {\n",
    "    print(object)\n",
    "    identical(deg(object), 0L) && return()\n",
    "\n",
    "    cat(\"=\", object[deg(object)])\n",
    "\n",
    "    roots <- format_cplx(round(racines(object), 2L))\n",
    "    cat(paste(sapply(roots, format_term)), \"\\n\", sep = \"\")\n",
    "}"
   ]
  },
  {
   "cell_type": "markdown",
   "metadata": {},
   "source": [
    "### Exemples"
   ]
  },
  {
   "cell_type": "code",
   "execution_count": 10,
   "metadata": {},
   "outputs": [
    {
     "name": "stdout",
     "output_type": "stream",
     "text": [
      "2 + 3x \n",
      "x + 4x^2 \n"
     ]
    }
   ],
   "source": [
    "p <- plynR(c(2, 3))\n",
    "q <- plynR(c(0, 1, 4, 0, 0))\n",
    "print(p)\n",
    "print(q)"
   ]
  },
  {
   "cell_type": "code",
   "execution_count": 11,
   "metadata": {},
   "outputs": [
    {
     "name": "stdout",
     "output_type": "stream",
     "text": [
      "2x + 11x^2 + 12x^3 \n"
     ]
    }
   ],
   "source": [
    "print(p * q)"
   ]
  },
  {
   "cell_type": "code",
   "execution_count": 12,
   "metadata": {},
   "outputs": [
    {
     "name": "stdout",
     "output_type": "stream",
     "text": [
      "2 + 4x + 4x^2 \n"
     ]
    }
   ],
   "source": [
    "print(p + q)"
   ]
  },
  {
   "cell_type": "code",
   "execution_count": 13,
   "metadata": {},
   "outputs": [
    {
     "name": "stdout",
     "output_type": "stream",
     "text": [
      "4x^3 + 60x^4 + 345x^5 + 940x^6 + 1200x^7 + 576x^8 \n"
     ]
    }
   ],
   "source": [
    "print(fois(p, p, q, q, q))"
   ]
  },
  {
   "cell_type": "code",
   "execution_count": 14,
   "metadata": {},
   "outputs": [
    {
     "name": "stdout",
     "output_type": "stream",
     "text": [
      "12x^2 + 240x^3 + 1725x^4 + 5640x^5 + 8400x^6 + 4608x^7 \n"
     ]
    }
   ],
   "source": [
    "print(derive(fois(p, p, q, q, q)))"
   ]
  },
  {
   "cell_type": "code",
   "execution_count": 15,
   "metadata": {},
   "outputs": [
    {
     "data": {
      "text/html": [
       "<style>\n",
       ".list-inline {list-style: none; margin:0; padding: 0}\n",
       ".list-inline>li {display: inline-block}\n",
       ".list-inline>li:not(:last-child)::after {content: \"\\00b7\"; padding: 0 .5ex}\n",
       "</style>\n",
       "<ol class=list-inline><li>0+0i</li><li>-0.25+0i</li></ol>\n"
      ],
      "text/latex": [
       "\\begin{enumerate*}\n",
       "\\item 0+0i\n",
       "\\item -0.25+0i\n",
       "\\end{enumerate*}\n"
      ],
      "text/markdown": [
       "1. 0+0i\n",
       "2. -0.25+0i\n",
       "\n",
       "\n"
      ],
      "text/plain": [
       "[1]  0.00+0i -0.25+0i"
      ]
     },
     "metadata": {},
     "output_type": "display_data"
    }
   ],
   "source": [
    "racines(q)"
   ]
  },
  {
   "cell_type": "code",
   "execution_count": 16,
   "metadata": {},
   "outputs": [
    {
     "name": "stdout",
     "output_type": "stream",
     "text": [
      "x + 4x^2 \n",
      "= 4x(x + 0.25)\n"
     ]
    }
   ],
   "source": [
    "summary(q)"
   ]
  }
 ],
 "metadata": {
  "kernelspec": {
   "display_name": "R",
   "language": "R",
   "name": "ir"
  },
  "language_info": {
   "codemirror_mode": "r",
   "file_extension": ".r",
   "mimetype": "text/x-r-source",
   "name": "R",
   "pygments_lexer": "r",
   "version": "4.0.3"
  }
 },
 "nbformat": 4,
 "nbformat_minor": 4
}
