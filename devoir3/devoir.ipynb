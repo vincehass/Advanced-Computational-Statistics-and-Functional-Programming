{
 "cells": [
  {
   "cell_type": "markdown",
   "metadata": {},
   "source": [
    "# Devoir 3: Programmation orientée objet et polynômes"
   ]
  },
  {
   "cell_type": "markdown",
   "metadata": {},
   "source": [
    "Soit un anneau commutatif $\\boldsymbol K$ ($\\mathbb Q, \\mathbb R$ ou $\\mathbb C$ par exemple). Un polynôme en $x$ sur $\\boldsymbol K$ est défini par\n",
    "\n",
    "$$\n",
    "P(x) = \\sum_{i = 0}^m a_i x^i\n",
    "$$\n",
    "\n",
    "où $a_i \\in \\boldsymbol K$. On dénote l'ensemble des polynômes en $x$ sur $\\boldsymbol K$ par $\\boldsymbol K[x]$."
   ]
  },
  {
   "cell_type": "markdown",
   "metadata": {},
   "source": [
    "## Exercice 1"
   ]
  },
  {
   "cell_type": "markdown",
   "metadata": {},
   "source": [
    "### a)\n",
    "\n",
    "Définissez la classe `plynR` modélisant l'ensemble des polynômes en $x$ sur $\\mathbb R$. Pour ce faire, implémentez le constructeur `plynR(coefs)` où `coefs` est le vecteur des coefficients. "
   ]
  },
  {
   "cell_type": "markdown",
   "metadata": {},
   "source": [
    "### b)\n",
    "\n",
    "Définissez la méthode `print(x)` pour la classe `plynR` permettant d'afficher le polynôme `x` à l'écran. Pour ce faire, faites appel à la fonction `cat`."
   ]
  },
  {
   "cell_type": "markdown",
   "metadata": {},
   "source": [
    "### c)\n",
    "\n",
    "En fait, $\\boldsymbol K[x]$ forme lui aussi un anneau commutatif, c'est-à-dire (entre autres) qu'il possède une addition. Pour $P(x), Q(x) \\in \\boldsymbol K[x]$, $P(x) = \\sum_{i = 0}^m a_i x^i$ et $Q(x) = \\sum_{i = 0}^n b_i x^i$ celle-ci est définie par\n",
    "\n",
    "$$\n",
    "P(x) + Q(x) = \\sum_{i = 0}^s (a_i + b_i) x^i\n",
    "$$\n",
    "\n",
    "où $s = \\max(m, n)$. Implémentez les méthodes `plus(p, q)` et `moins(p, q)` pour la classe `plynR` permettant d'additionner ou de soustraire les polynômes `p` et `q`."
   ]
  },
  {
   "cell_type": "markdown",
   "metadata": {},
   "source": [
    "### d)\n",
    "\n",
    "$\\boldsymbol K[x]$ possède aussi une multiplication définie par\n",
    "\n",
    "$$\n",
    "P(x) Q(x) = \\sum_{i = 0}^{m + n} c_i x^i\n",
    "$$\n",
    "\n",
    "où $c_i = \\sum_{j + k = i} a_j b_k$. Implémentez la méthode `fois(p, q)` pour la classe `plynR` permettant de multiplier les polynômes `p` et `q`."
   ]
  },
  {
   "cell_type": "markdown",
   "metadata": {},
   "source": [
    "### e)\n",
    "\n",
    "La dérivée d'un polynôme est définie par\n",
    "\n",
    "$$\n",
    "P'(x) = \\sum_{i = 0}^m i a_i x^{i - 1} \n",
    "$$\n",
    "\n",
    "Implémentez cette opération à travers la méthode `derive(p)`."
   ]
  },
  {
   "cell_type": "markdown",
   "metadata": {},
   "source": [
    "### f)\n",
    "\n",
    "Implémentez la méthode `racines(p)` qui retourne les racines de `p`. Pour ce faire, vous pouvez faire appel à la fonction `polyroot`. "
   ]
  },
  {
   "cell_type": "markdown",
   "metadata": {},
   "source": [
    "### g)\n",
    "\n",
    "Implémentez la méthode `summary(p)` qui, en plus d'afficher le polynôme `p` à l'écran, affiche sa factorisation."
   ]
  }
 ],
 "metadata": {
  "kernelspec": {
   "display_name": "R",
   "language": "R",
   "name": "ir"
  },
  "language_info": {
   "codemirror_mode": "r",
   "file_extension": ".r",
   "mimetype": "text/x-r-source",
   "name": "R",
   "pygments_lexer": "r",
   "version": "4.0.3"
  }
 },
 "nbformat": 4,
 "nbformat_minor": 4
}
