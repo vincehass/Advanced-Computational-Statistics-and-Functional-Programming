{
 "cells": [
  {
   "cell_type": "markdown",
   "metadata": {
    "slideshow": {
     "slide_type": "slide"
    }
   },
   "source": [
    "# Débogage"
   ]
  },
  {
   "cell_type": "markdown",
   "metadata": {
    "slideshow": {
     "slide_type": "subslide"
    }
   },
   "source": [
    "## Débogage naïf\n",
    "La fonction `fact` calcule la factorielle d'un nombre. Toutefois, l'implémentation ci-dessous ne fonctionne pas (voyez vous pourquoi?)."
   ]
  },
  {
   "cell_type": "code",
   "execution_count": 1,
   "metadata": {
    "slideshow": {
     "slide_type": "fragment"
    }
   },
   "outputs": [],
   "source": [
    "fact <- function(x){\n",
    "    x < 0 && return(1) # Équivaut à if (x < 0) return(1).\n",
    "    x * fact(x - 1)\n",
    "}"
   ]
  },
  {
   "cell_type": "code",
   "execution_count": 2,
   "metadata": {
    "slideshow": {
     "slide_type": "fragment"
    }
   },
   "outputs": [
    {
     "data": {
      "text/html": [
       "0"
      ],
      "text/latex": [
       "0"
      ],
      "text/markdown": [
       "0"
      ],
      "text/plain": [
       "[1] 0"
      ]
     },
     "metadata": {},
     "output_type": "display_data"
    }
   ],
   "source": [
    "fact(5)"
   ]
  },
  {
   "cell_type": "markdown",
   "metadata": {
    "slideshow": {
     "slide_type": "subslide"
    }
   },
   "source": [
    "Afin de trouver le bug, nous allons ajouter un appel à `print`."
   ]
  },
  {
   "cell_type": "code",
   "execution_count": 3,
   "metadata": {
    "slideshow": {
     "slide_type": "fragment"
    }
   },
   "outputs": [],
   "source": [
    "fact <- function(x){\n",
    "    x < 0 && return(1)\n",
    "    \n",
    "    print(x)\n",
    "    \n",
    "    x * fact(x - 1)\n",
    "} "
   ]
  },
  {
   "cell_type": "code",
   "execution_count": 4,
   "metadata": {
    "slideshow": {
     "slide_type": "fragment"
    }
   },
   "outputs": [
    {
     "name": "stdout",
     "output_type": "stream",
     "text": [
      "[1] 5\n",
      "[1] 4\n",
      "[1] 3\n",
      "[1] 2\n",
      "[1] 1\n",
      "[1] 0\n"
     ]
    },
    {
     "data": {
      "text/html": [
       "0"
      ],
      "text/latex": [
       "0"
      ],
      "text/markdown": [
       "0"
      ],
      "text/plain": [
       "[1] 0"
      ]
     },
     "metadata": {},
     "output_type": "display_data"
    }
   ],
   "source": [
    "fact(5)"
   ]
  },
  {
   "cell_type": "markdown",
   "metadata": {
    "slideshow": {
     "slide_type": "fragment"
    }
   },
   "source": [
    "Ah! Selon la définition de la factorielle, `x` ne devrait jamais être plus petit que 1. Le problème se situe donc au niveau de la condition d'arrêt `x < 0`."
   ]
  },
  {
   "cell_type": "code",
   "execution_count": 5,
   "metadata": {
    "slideshow": {
     "slide_type": "subslide"
    }
   },
   "outputs": [],
   "source": [
    "fact <- function(x){\n",
    "    x <= 0 && return(1)\n",
    "    x * fact(x - 1)\n",
    "} "
   ]
  },
  {
   "cell_type": "code",
   "execution_count": 6,
   "metadata": {
    "slideshow": {
     "slide_type": "subslide"
    }
   },
   "outputs": [
    {
     "data": {
      "text/html": [
       "120"
      ],
      "text/latex": [
       "120"
      ],
      "text/markdown": [
       "120"
      ],
      "text/plain": [
       "[1] 120"
      ]
     },
     "metadata": {},
     "output_type": "display_data"
    }
   ],
   "source": [
    "fact(5)"
   ]
  },
  {
   "cell_type": "markdown",
   "metadata": {
    "slideshow": {
     "slide_type": "slide"
    }
   },
   "source": [
    "## Débogage interactif\n",
    "Nous allons implémenter la fonction `dist0` qui permet d'étudier (sommairement) la distribution des nombres aléatoires générés par R. Pour se faire, elle génère $n$ nombres (par défaut $n = 10000$) aléatoires entre 0 et 9 qu'elle divise en $m$ vecteurs. Elle calcule ensuite la proportion de 0 dans chacun de ces vecteurs.\n",
    "\n",
    "Avant d'implémenter `dist0`, écrivons la fonction `cutVector` qui divise $n$ nombres en $m$ vecteurs."
   ]
  },
  {
   "cell_type": "code",
   "execution_count": 7,
   "metadata": {
    "slideshow": {
     "slide_type": "fragment"
    }
   },
   "outputs": [],
   "source": [
    "library(magrittr)\n",
    "\n",
    "cutVector <- function(vec, m)\n",
    "    list(n = length(vec) / m) %$%\n",
    "        {lapply(0:(m - 1),\n",
    "                function(x) vec[seq(n * x + 1, n * (x + 1))])}"
   ]
  },
  {
   "cell_type": "markdown",
   "metadata": {},
   "source": [
    "Première implémentation de `dist0`; voyez-vous un problème?"
   ]
  },
  {
   "cell_type": "code",
   "execution_count": 8,
   "metadata": {},
   "outputs": [],
   "source": [
    "dist0 <- function(m, n = 1e4){\n",
    "    dat <- sample(0:9, size = n * m, replace = TRUE) %>%\n",
    "        cutVector(m)\n",
    "\n",
    "    lapply(dat, function(v) sapply(v, identical, y = 0)) %>%\n",
    "        sapply(mean)\n",
    "}"
   ]
  },
  {
   "cell_type": "code",
   "execution_count": 9,
   "metadata": {},
   "outputs": [
    {
     "data": {
      "text/html": [
       "<style>\n",
       ".list-inline {list-style: none; margin:0; padding: 0}\n",
       ".list-inline>li {display: inline-block}\n",
       ".list-inline>li:not(:last-child)::after {content: \"\\00b7\"; padding: 0 .5ex}\n",
       "</style>\n",
       "<ol class=list-inline><li>0</li><li>0</li><li>0</li><li>0</li><li>0</li><li>0</li><li>0</li><li>0</li><li>0</li><li>0</li></ol>\n"
      ],
      "text/latex": [
       "\\begin{enumerate*}\n",
       "\\item 0\n",
       "\\item 0\n",
       "\\item 0\n",
       "\\item 0\n",
       "\\item 0\n",
       "\\item 0\n",
       "\\item 0\n",
       "\\item 0\n",
       "\\item 0\n",
       "\\item 0\n",
       "\\end{enumerate*}\n"
      ],
      "text/markdown": [
       "1. 0\n",
       "2. 0\n",
       "3. 0\n",
       "4. 0\n",
       "5. 0\n",
       "6. 0\n",
       "7. 0\n",
       "8. 0\n",
       "9. 0\n",
       "10. 0\n",
       "\n",
       "\n"
      ],
      "text/plain": [
       " [1] 0 0 0 0 0 0 0 0 0 0"
      ]
     },
     "metadata": {},
     "output_type": "display_data"
    }
   ],
   "source": [
    "dist0(10)"
   ]
  },
  {
   "cell_type": "markdown",
   "metadata": {},
   "source": [
    "Oups! Un tel résultat est très peu probable... Juste pour être certain, répétons l'expérience!"
   ]
  },
  {
   "cell_type": "code",
   "execution_count": 10,
   "metadata": {},
   "outputs": [
    {
     "data": {
      "text/html": [
       "<style>\n",
       ".list-inline {list-style: none; margin:0; padding: 0}\n",
       ".list-inline>li {display: inline-block}\n",
       ".list-inline>li:not(:last-child)::after {content: \"\\00b7\"; padding: 0 .5ex}\n",
       "</style>\n",
       "<ol class=list-inline><li>0</li><li>0</li><li>0</li><li>0</li><li>0</li><li>0</li><li>0</li><li>0</li><li>0</li><li>0</li></ol>\n"
      ],
      "text/latex": [
       "\\begin{enumerate*}\n",
       "\\item 0\n",
       "\\item 0\n",
       "\\item 0\n",
       "\\item 0\n",
       "\\item 0\n",
       "\\item 0\n",
       "\\item 0\n",
       "\\item 0\n",
       "\\item 0\n",
       "\\item 0\n",
       "\\end{enumerate*}\n"
      ],
      "text/markdown": [
       "1. 0\n",
       "2. 0\n",
       "3. 0\n",
       "4. 0\n",
       "5. 0\n",
       "6. 0\n",
       "7. 0\n",
       "8. 0\n",
       "9. 0\n",
       "10. 0\n",
       "\n",
       "\n"
      ],
      "text/plain": [
       " [1] 0 0 0 0 0 0 0 0 0 0"
      ]
     },
     "metadata": {},
     "output_type": "display_data"
    }
   ],
   "source": [
    "dist0(10)"
   ]
  },
  {
   "cell_type": "markdown",
   "metadata": {},
   "source": [
    "Il y a décidément un bug! Avant de regarder les solutions ci-dessous, copiez le code dans RStudio et utilisez le débogueur pour trouver le problème."
   ]
  },
  {
   "cell_type": "code",
   "execution_count": 11,
   "metadata": {},
   "outputs": [],
   "source": [
    "dist0 <- function(m, n = 1e4){\n",
    "    dat <- sample(0:9, size = n * m, replace = TRUE) %>%\n",
    "        cutVector(m) %>%\n",
    "        lapply(as.numeric)\n",
    "\n",
    "    lapply(dat, function(v) sapply(v, identical, y = 0)) %>%\n",
    "        sapply(mean)\n",
    "}"
   ]
  },
  {
   "cell_type": "code",
   "execution_count": 12,
   "metadata": {},
   "outputs": [
    {
     "data": {
      "text/html": [
       "<style>\n",
       ".list-inline {list-style: none; margin:0; padding: 0}\n",
       ".list-inline>li {display: inline-block}\n",
       ".list-inline>li:not(:last-child)::after {content: \"\\00b7\"; padding: 0 .5ex}\n",
       "</style>\n",
       "<ol class=list-inline><li>0.0923</li><li>0.1029</li><li>0.1032</li><li>0.0975</li><li>0.1003</li><li>0.1019</li><li>0.0986</li><li>0.0933</li><li>0.1021</li><li>0.1012</li></ol>\n"
      ],
      "text/latex": [
       "\\begin{enumerate*}\n",
       "\\item 0.0923\n",
       "\\item 0.1029\n",
       "\\item 0.1032\n",
       "\\item 0.0975\n",
       "\\item 0.1003\n",
       "\\item 0.1019\n",
       "\\item 0.0986\n",
       "\\item 0.0933\n",
       "\\item 0.1021\n",
       "\\item 0.1012\n",
       "\\end{enumerate*}\n"
      ],
      "text/markdown": [
       "1. 0.0923\n",
       "2. 0.1029\n",
       "3. 0.1032\n",
       "4. 0.0975\n",
       "5. 0.1003\n",
       "6. 0.1019\n",
       "7. 0.0986\n",
       "8. 0.0933\n",
       "9. 0.1021\n",
       "10. 0.1012\n",
       "\n",
       "\n"
      ],
      "text/plain": [
       " [1] 0.0923 0.1029 0.1032 0.0975 0.1003 0.1019 0.0986 0.0933 0.1021 0.1012"
      ]
     },
     "metadata": {},
     "output_type": "display_data"
    }
   ],
   "source": [
    "dist0(10)"
   ]
  },
  {
   "cell_type": "code",
   "execution_count": 13,
   "metadata": {},
   "outputs": [],
   "source": [
    "dist0 <- function(m, n = 1e4){\n",
    "    dat <- sample(0:9, size = n * m, replace = TRUE) %>%\n",
    "        cutVector(m)\n",
    "\n",
    "    lapply(dat, function(v) sapply(v, identical, y = 0L)) %>%\n",
    "        sapply(mean)\n",
    "}"
   ]
  },
  {
   "cell_type": "code",
   "execution_count": 14,
   "metadata": {},
   "outputs": [
    {
     "data": {
      "text/html": [
       "<style>\n",
       ".list-inline {list-style: none; margin:0; padding: 0}\n",
       ".list-inline>li {display: inline-block}\n",
       ".list-inline>li:not(:last-child)::after {content: \"\\00b7\"; padding: 0 .5ex}\n",
       "</style>\n",
       "<ol class=list-inline><li>0.1029</li><li>0.1008</li><li>0.1001</li><li>0.1017</li><li>0.1009</li><li>0.0993</li><li>0.0987</li><li>0.0973</li><li>0.1052</li><li>0.0973</li></ol>\n"
      ],
      "text/latex": [
       "\\begin{enumerate*}\n",
       "\\item 0.1029\n",
       "\\item 0.1008\n",
       "\\item 0.1001\n",
       "\\item 0.1017\n",
       "\\item 0.1009\n",
       "\\item 0.0993\n",
       "\\item 0.0987\n",
       "\\item 0.0973\n",
       "\\item 0.1052\n",
       "\\item 0.0973\n",
       "\\end{enumerate*}\n"
      ],
      "text/markdown": [
       "1. 0.1029\n",
       "2. 0.1008\n",
       "3. 0.1001\n",
       "4. 0.1017\n",
       "5. 0.1009\n",
       "6. 0.0993\n",
       "7. 0.0987\n",
       "8. 0.0973\n",
       "9. 0.1052\n",
       "10. 0.0973\n",
       "\n",
       "\n"
      ],
      "text/plain": [
       " [1] 0.1029 0.1008 0.1001 0.1017 0.1009 0.0993 0.0987 0.0973 0.1052 0.0973"
      ]
     },
     "metadata": {},
     "output_type": "display_data"
    }
   ],
   "source": [
    "dist0(10)"
   ]
  },
  {
   "cell_type": "markdown",
   "metadata": {},
   "source": [
    "# Profilage"
   ]
  },
  {
   "cell_type": "markdown",
   "metadata": {},
   "source": [
    "Nous allons implémenter une fonction qui simule $m$ jeux de données et effectue une régression linéaire sur chacun de ceux-ci."
   ]
  },
  {
   "cell_type": "code",
   "execution_count": 15,
   "metadata": {},
   "outputs": [],
   "source": [
    "lmSlow <- function(m){\n",
    "    res <- list()\n",
    "\n",
    "    for (kk in 1:m){\n",
    "        random_values <- rnorm(1e6)\n",
    "        X <- matrix(random_values, ncol = 20)\n",
    "        y <- rnorm(5e4)\n",
    "        reg <- lm(y ~ X)\n",
    "        b <- coef(reg)\n",
    "        res %<>% append(coef)\n",
    "    }\n",
    "    res\n",
    "}"
   ]
  },
  {
   "cell_type": "markdown",
   "metadata": {},
   "source": [
    "À titre indicatif, mesurons le temps d'exécution de la fonction."
   ]
  },
  {
   "cell_type": "code",
   "execution_count": 16,
   "metadata": {},
   "outputs": [
    {
     "data": {
      "text/plain": [
       "   user  system elapsed \n",
       "  8.124   3.474   5.112 "
      ]
     },
     "metadata": {},
     "output_type": "display_data"
    }
   ],
   "source": [
    "system.time(lmSlow(20))"
   ]
  },
  {
   "cell_type": "markdown",
   "metadata": {},
   "source": [
    "La fonction est relativement lente, on cherche à l'optimiser. Mais par où commencer? Quelle partie du code prend du temps? La génération des données? L'ajustement du modèle? Pour le déterminer, copiez le code de la fonction dans RStudio et utiliser les outils de profilage. Ci-dessous une version plus rapide de la même fonction."
   ]
  },
  {
   "cell_type": "code",
   "execution_count": 17,
   "metadata": {},
   "outputs": [],
   "source": [
    "lmFast <- function(m){\n",
    "    Xs <- rnorm(1e6 * m) %>%      ## Génération des données.\n",
    "        cutVector(m) %>%          ## 1 entrée = 1 simulation.\n",
    "        lapply(matrix, ncol = 20) ## vecteur -> matrice.\n",
    "\n",
    "    ys <- rnorm(5e4 * m) %>%\n",
    "        cutVector(m)\n",
    "\n",
    "    mapply(function(X, y) lm(y ~ X) %>% coef, Xs, ys)\n",
    "}"
   ]
  },
  {
   "cell_type": "code",
   "execution_count": 18,
   "metadata": {},
   "outputs": [
    {
     "data": {
      "text/plain": [
       "   user  system elapsed \n",
       "  6.450   3.140   4.559 "
      ]
     },
     "metadata": {},
     "output_type": "display_data"
    }
   ],
   "source": [
    "system.time(lmFast(20))"
   ]
  },
  {
   "cell_type": "markdown",
   "metadata": {},
   "source": [
    "# Benchmarking"
   ]
  },
  {
   "cell_type": "markdown",
   "metadata": {},
   "source": [
    "Comparons les performances des deux fonctions précédentes."
   ]
  },
  {
   "cell_type": "code",
   "execution_count": 19,
   "metadata": {},
   "outputs": [
    {
     "name": "stdout",
     "output_type": "stream",
     "text": [
      "Unit: seconds\n",
      "       expr      min       lq     mean   median       uq      max neval\n",
      " lmSlow(10) 1.747814 2.089591 2.193639 2.275526 2.323888 2.414680    20\n",
      " lmFast(10) 1.557889 1.725657 1.943179 1.963425 2.092333 2.515816    20\n"
     ]
    }
   ],
   "source": [
    "library(microbenchmark)\n",
    "\n",
    "mb <- microbenchmark(lmSlow(10), lmFast(10), times = 20)\n",
    "print(mb)"
   ]
  },
  {
   "cell_type": "code",
   "execution_count": 20,
   "metadata": {},
   "outputs": [
    {
     "data": {
      "image/png": "[encoded data removed]",
      "text/plain": [
       "plot without title"
      ]
     },
     "metadata": {
      "image/png": {
       "height": 420,
       "width": 420
      }
     },
     "output_type": "display_data"
    }
   ],
   "source": [
    "plot(mb)"
   ]
  }
 ],
 "metadata": {
  "kernelspec": {
   "display_name": "R",
   "language": "R",
   "name": "ir"
  },
  "language_info": {
   "codemirror_mode": "r",
   "file_extension": ".r",
   "mimetype": "text/x-r-source",
   "name": "R",
   "pygments_lexer": "r",
   "version": "4.0.3"
  }
 },
 "nbformat": 4,
 "nbformat_minor": 4
}
